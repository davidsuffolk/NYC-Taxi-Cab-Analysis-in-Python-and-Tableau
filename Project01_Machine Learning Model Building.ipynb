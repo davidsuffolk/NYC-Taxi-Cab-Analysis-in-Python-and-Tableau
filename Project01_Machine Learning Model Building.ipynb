{
 "cells": [
  {
   "cell_type": "code",
   "execution_count": 80,
   "metadata": {},
   "outputs": [],
   "source": [
    "import pandas as pd\n",
    "from sklearn.neural_network import MLPClassifier\n",
    "from sklearn.metrics import confusion_matrix, classification_report\n",
    "from sklearn.preprocessing import StandardScaler, LabelEncoder\n",
    "from sklearn.model_selection import train_test_split\n",
    "from sklearn.metrics import accuracy_score\n",
    "%matplotlib inline\n",
    "from sklearn.tree import DecisionTreeClassifier\n",
    "from sklearn.ensemble import RandomForestClassifier, BaggingClassifier, AdaBoostClassifier, VotingClassifier\n",
    "from sklearn.linear_model import LogisticRegression\n",
    "from sklearn.svm import SVC\n",
    "from scipy.stats import pearsonr\n",
    "from numpy import cov\n",
    "from scipy.stats import spearmanr"
   ]
  },
  {
   "cell_type": "code",
   "execution_count": 40,
   "metadata": {},
   "outputs": [],
   "source": [
    "df = pd.read_csv('data_location_040420')"
   ]
  },
  {
   "cell_type": "code",
   "execution_count": 41,
   "metadata": {},
   "outputs": [],
   "source": [
    "df = df.drop(['Unnamed: 0','pickup_datetime','dropoff_datetime','Pickup_Day','Pickup_Time',\n",
    "             'Dropoff_Day','Dropoff_Time'], axis=1)"
   ]
  },
  {
   "cell_type": "code",
   "execution_count": 42,
   "metadata": {},
   "outputs": [
    {
     "data": {
      "text/html": [
       "<div>\n",
       "<style scoped>\n",
       "    .dataframe tbody tr th:only-of-type {\n",
       "        vertical-align: middle;\n",
       "    }\n",
       "\n",
       "    .dataframe tbody tr th {\n",
       "        vertical-align: top;\n",
       "    }\n",
       "\n",
       "    .dataframe thead th {\n",
       "        text-align: right;\n",
       "    }\n",
       "</style>\n",
       "<table border=\"1\" class=\"dataframe\">\n",
       "  <thead>\n",
       "    <tr style=\"text-align: right;\">\n",
       "      <th></th>\n",
       "      <th>passenger_count</th>\n",
       "      <th>trip_distance</th>\n",
       "      <th>PULocationID</th>\n",
       "      <th>DOLocationID</th>\n",
       "      <th>fare_amount</th>\n",
       "      <th>surcharge</th>\n",
       "      <th>mta_tax</th>\n",
       "      <th>tip_amount</th>\n",
       "      <th>tolls_amount</th>\n",
       "      <th>total_amount</th>\n",
       "      <th>Pickup_Month</th>\n",
       "      <th>Pickup_Year</th>\n",
       "      <th>Dropoff_Month</th>\n",
       "      <th>Dropoff_Year</th>\n",
       "      <th>diff_seconds</th>\n",
       "      <th>tip_percentage</th>\n",
       "    </tr>\n",
       "  </thead>\n",
       "  <tbody>\n",
       "    <tr>\n",
       "      <td>0</td>\n",
       "      <td>2</td>\n",
       "      <td>2.60</td>\n",
       "      <td>79</td>\n",
       "      <td>163</td>\n",
       "      <td>12</td>\n",
       "      <td>0.3</td>\n",
       "      <td>0.5</td>\n",
       "      <td>2</td>\n",
       "      <td>0.0</td>\n",
       "      <td>16.56</td>\n",
       "      <td>1</td>\n",
       "      <td>2017</td>\n",
       "      <td>1</td>\n",
       "      <td>2017</td>\n",
       "      <td>959.0</td>\n",
       "      <td>0.166667</td>\n",
       "    </tr>\n",
       "    <tr>\n",
       "      <td>1</td>\n",
       "      <td>2</td>\n",
       "      <td>0.66</td>\n",
       "      <td>79</td>\n",
       "      <td>79</td>\n",
       "      <td>5</td>\n",
       "      <td>0.3</td>\n",
       "      <td>0.5</td>\n",
       "      <td>1</td>\n",
       "      <td>0.0</td>\n",
       "      <td>8.16</td>\n",
       "      <td>1</td>\n",
       "      <td>2017</td>\n",
       "      <td>1</td>\n",
       "      <td>2017</td>\n",
       "      <td>335.0</td>\n",
       "      <td>0.200000</td>\n",
       "    </tr>\n",
       "    <tr>\n",
       "      <td>2</td>\n",
       "      <td>1</td>\n",
       "      <td>0.60</td>\n",
       "      <td>79</td>\n",
       "      <td>232</td>\n",
       "      <td>4</td>\n",
       "      <td>0.3</td>\n",
       "      <td>0.5</td>\n",
       "      <td>1</td>\n",
       "      <td>0.0</td>\n",
       "      <td>7.50</td>\n",
       "      <td>1</td>\n",
       "      <td>2017</td>\n",
       "      <td>1</td>\n",
       "      <td>2017</td>\n",
       "      <td>236.0</td>\n",
       "      <td>0.250000</td>\n",
       "    </tr>\n",
       "    <tr>\n",
       "      <td>3</td>\n",
       "      <td>1</td>\n",
       "      <td>4.20</td>\n",
       "      <td>79</td>\n",
       "      <td>146</td>\n",
       "      <td>15</td>\n",
       "      <td>0.3</td>\n",
       "      <td>0.5</td>\n",
       "      <td>3</td>\n",
       "      <td>0.0</td>\n",
       "      <td>19.56</td>\n",
       "      <td>1</td>\n",
       "      <td>2017</td>\n",
       "      <td>1</td>\n",
       "      <td>2017</td>\n",
       "      <td>851.0</td>\n",
       "      <td>0.200000</td>\n",
       "    </tr>\n",
       "    <tr>\n",
       "      <td>4</td>\n",
       "      <td>1</td>\n",
       "      <td>9.10</td>\n",
       "      <td>79</td>\n",
       "      <td>257</td>\n",
       "      <td>26</td>\n",
       "      <td>0.3</td>\n",
       "      <td>0.5</td>\n",
       "      <td>5</td>\n",
       "      <td>0.0</td>\n",
       "      <td>32.75</td>\n",
       "      <td>1</td>\n",
       "      <td>2017</td>\n",
       "      <td>1</td>\n",
       "      <td>2017</td>\n",
       "      <td>1140.0</td>\n",
       "      <td>0.192308</td>\n",
       "    </tr>\n",
       "  </tbody>\n",
       "</table>\n",
       "</div>"
      ],
      "text/plain": [
       "   passenger_count  trip_distance  PULocationID  DOLocationID  fare_amount  \\\n",
       "0                2           2.60            79           163           12   \n",
       "1                2           0.66            79            79            5   \n",
       "2                1           0.60            79           232            4   \n",
       "3                1           4.20            79           146           15   \n",
       "4                1           9.10            79           257           26   \n",
       "\n",
       "   surcharge  mta_tax  tip_amount  tolls_amount  total_amount  Pickup_Month  \\\n",
       "0        0.3      0.5           2           0.0         16.56             1   \n",
       "1        0.3      0.5           1           0.0          8.16             1   \n",
       "2        0.3      0.5           1           0.0          7.50             1   \n",
       "3        0.3      0.5           3           0.0         19.56             1   \n",
       "4        0.3      0.5           5           0.0         32.75             1   \n",
       "\n",
       "   Pickup_Year  Dropoff_Month  Dropoff_Year  diff_seconds  tip_percentage  \n",
       "0         2017              1          2017         959.0        0.166667  \n",
       "1         2017              1          2017         335.0        0.200000  \n",
       "2         2017              1          2017         236.0        0.250000  \n",
       "3         2017              1          2017         851.0        0.200000  \n",
       "4         2017              1          2017        1140.0        0.192308  "
      ]
     },
     "execution_count": 42,
     "metadata": {},
     "output_type": "execute_result"
    }
   ],
   "source": [
    "df.head()"
   ]
  },
  {
   "cell_type": "code",
   "execution_count": 43,
   "metadata": {},
   "outputs": [
    {
     "data": {
      "text/plain": [
       "(91802, 16)"
      ]
     },
     "execution_count": 43,
     "metadata": {},
     "output_type": "execute_result"
    }
   ],
   "source": [
    "df.shape"
   ]
  },
  {
   "cell_type": "code",
   "execution_count": 44,
   "metadata": {},
   "outputs": [],
   "source": [
    "# Create X variable for features and Y variable for target\n",
    "X = df.drop('PULocationID', axis=1) #features\n",
    "y = df['PULocationID'] #target"
   ]
  },
  {
   "cell_type": "code",
   "execution_count": 57,
   "metadata": {},
   "outputs": [],
   "source": [
    "# Split the Train and Test Data\n",
    "# Apply Scaling and Fitting\n",
    "# Train and Test Split\n",
    "X_train, X_test, y_train, y_test = train_test_split(X, y, test_size = 0.4, random_state = 42)\n",
    "# Applying standard scaling\n",
    "sc = StandardScaler()\n",
    "X_train = sc.fit_transform(X_train)\n",
    "X_test = sc.transform(X_test)"
   ]
  },
  {
   "cell_type": "markdown",
   "metadata": {},
   "source": [
    "# Neural Network"
   ]
  },
  {
   "cell_type": "code",
   "execution_count": 58,
   "metadata": {},
   "outputs": [],
   "source": [
    "def nn(X_train, X_test, y_train, y_test):\n",
    "    # Create multilayer perceptron neural network\n",
    "    mlpc = MLPClassifier(hidden_layer_sizes=(25,25,25), max_iter=500)\n",
    "    mlpc.fit(X_train, y_train)\n",
    "    pred_mlpc = mlpc.predict(X_test)\n",
    "    # Display classification report and confusion matrix\n",
    "    print(classification_report(y_test, pred_mlpc))\n",
    "    print(confusion_matrix(y_test, pred_mlpc))\n",
    "    # Calculate accuracy of model\n",
    "    cm = accuracy_score(y_test, pred_mlpc)\n",
    "    print(\"Model Accuracy: \"+\"{:.2%}\".format(cm))"
   ]
  },
  {
   "cell_type": "code",
   "execution_count": 59,
   "metadata": {},
   "outputs": [
    {
     "data": {
      "text/plain": [
       "array([ 79,  48, 132, 230, 249, 148, 161, 234,  68, 164, 154, 108, 216,\n",
       "       134,  10, 130,   8,  28,  56, 207, 138])"
      ]
     },
     "execution_count": 59,
     "metadata": {},
     "output_type": "execute_result"
    }
   ],
   "source": [
    "df['PULocationID'].unique()"
   ]
  },
  {
   "cell_type": "code",
   "execution_count": 60,
   "metadata": {},
   "outputs": [
    {
     "name": "stdout",
     "output_type": "stream",
     "text": [
      "              precision    recall  f1-score   support\n",
      "\n",
      "          10       0.14      0.15      0.15        13\n",
      "          28       0.00      0.00      0.00         3\n",
      "          48       0.34      0.21      0.26      3819\n",
      "          56       0.00      0.00      0.00         5\n",
      "          68       0.24      0.10      0.14      2548\n",
      "          79       0.27      0.57      0.37      5156\n",
      "         108       0.00      0.00      0.00         1\n",
      "         130       0.00      0.00      0.00         5\n",
      "         132       0.83      0.94      0.88      3243\n",
      "         134       0.00      0.00      0.00         3\n",
      "         138       0.59      0.74      0.65      1780\n",
      "         148       0.29      0.30      0.29      3432\n",
      "         154       0.00      0.00      0.00         2\n",
      "         161       0.27      0.24      0.26      3271\n",
      "         164       0.25      0.08      0.12      2611\n",
      "         207       0.00      0.00      0.00         1\n",
      "         216       0.00      0.00      0.00         5\n",
      "         230       0.27      0.23      0.25      3859\n",
      "         234       0.21      0.10      0.13      3271\n",
      "         249       0.22      0.29      0.25      3693\n",
      "\n",
      "    accuracy                           0.34     36721\n",
      "   macro avg       0.20      0.20      0.19     36721\n",
      "weighted avg       0.33      0.34      0.32     36721\n",
      "\n",
      "[[   2    3    0    0    1    0    0    0    7    0    0    0    0    0\n",
      "     0    0    0    0    0    0]\n",
      " [   1    0    0    0    0    0    0    0    0    0    2    0    0    0\n",
      "     0    0    0    0    0    0]\n",
      " [   0    0  814    0  155  894    0    0   55    0  119  251    0  330\n",
      "    63    0    0  608  134  396]\n",
      " [   1    0    0    0    0    0    0    0    1    0    2    0    0    0\n",
      "     0    1    0    0    0    0]\n",
      " [   0    0  228    0  247  732    0    0   22    0   63  158    0  154\n",
      "    50    0    0  179  177  538]\n",
      " [   0    0  146    0   59 2917    0    0   41    0   93  810    0  206\n",
      "    72    0    0  152  151  509]\n",
      " [   1    0    0    0    0    0    0    0    0    0    0    0    0    0\n",
      "     0    0    0    0    0    0]\n",
      " [   0    2    0    0    0    0    0    0    2    0    1    0    0    0\n",
      "     0    0    0    0    0    0]\n",
      " [   3    0   19    0    0   15    0    0 3049    0  137    4    0    4\n",
      "     5    0    0    4    0    3]\n",
      " [   0    0    0    0    0    1    0    0    1    0    1    0    0    0\n",
      "     0    0    0    0    0    0]\n",
      " [   5    0   39    0    3   53    0    0  272    0 1313   27    0    5\n",
      "     6    0    0   15    3   39]\n",
      " [   0    0  102    0   41 1337    0    0   31    0   83 1017    0  166\n",
      "     9    0    0  108   39  499]\n",
      " [   1    0    0    0    0    0    0    0    1    0    0    0    0    0\n",
      "     0    0    0    0    0    0]\n",
      " [   0    0  227    0   76  615    0    0   38    0   89  240    0  785\n",
      "    99    0    0  644  167  291]\n",
      " [   0    0  149    0  134  786    0    0   31    0   66  119    0  281\n",
      "   199    0    0  292  167  387]\n",
      " [   0    0    0    0    0    0    0    0    0    0    0    0    0    0\n",
      "     0    0    0    0    0    1]\n",
      " [   0    0    0    0    0    1    0    0    4    0    0    0    0    0\n",
      "     0    0    0    0    0    0]\n",
      " [   0    0  390    0   90  839    0    0   57    0  127  262    0  555\n",
      "    98    0    0  873  185  383]\n",
      " [   0    0  150    0  119 1221    0    0   31    0   68  138    0  215\n",
      "   158    0    0  212  312  647]\n",
      " [   0    0  141    0  107 1325    0    0   41    0   74  452    0  164\n",
      "    31    0    0  147  141 1070]]\n",
      "Model Accuracy: 34.31%\n"
     ]
    },
    {
     "name": "stderr",
     "output_type": "stream",
     "text": [
      "/Users/davidsuffolk/anaconda3/lib/python3.7/site-packages/sklearn/metrics/classification.py:1437: UndefinedMetricWarning: Precision and F-score are ill-defined and being set to 0.0 in labels with no predicted samples.\n",
      "  'precision', 'predicted', average, warn_for)\n"
     ]
    }
   ],
   "source": [
    "nn(X_train, X_test, y_train, y_test)"
   ]
  },
  {
   "cell_type": "markdown",
   "metadata": {},
   "source": [
    "# Random Forest"
   ]
  },
  {
   "cell_type": "markdown",
   "metadata": {},
   "source": [
    "### Ensemble Model of Decision Trees"
   ]
  },
  {
   "cell_type": "code",
   "execution_count": 61,
   "metadata": {},
   "outputs": [],
   "source": [
    "def RandomForest_Model(estimators):\n",
    "    rf = RandomForestClassifier(n_estimators=estimators)\n",
    "    rf.fit(X_train, y_train)\n",
    "    rf_score_test = rf.score(X_test,y_test)\n",
    "    rf_score_train = rf.score(X_train,y_train)\n",
    "    print(\"Number of Decision Trees: \" + str(estimators))\n",
    "    print(\"Test Score: \" + str(rf_score_test))\n",
    "    print(\"Train Score: \" + str(rf_score_train))"
   ]
  },
  {
   "cell_type": "markdown",
   "metadata": {},
   "source": [
    "#### 10 Estimators"
   ]
  },
  {
   "cell_type": "code",
   "execution_count": 62,
   "metadata": {},
   "outputs": [
    {
     "name": "stdout",
     "output_type": "stream",
     "text": [
      "Number of Decision Trees: 10\n",
      "Test Score: 0.324010784020043\n",
      "Train Score: 0.9883262831103284\n"
     ]
    }
   ],
   "source": [
    "RandomForest_Model(10)"
   ]
  },
  {
   "cell_type": "markdown",
   "metadata": {},
   "source": [
    "#### 50 Estimators"
   ]
  },
  {
   "cell_type": "code",
   "execution_count": 63,
   "metadata": {},
   "outputs": [
    {
     "name": "stdout",
     "output_type": "stream",
     "text": [
      "Number of Decision Trees: 50\n",
      "Test Score: 0.35170610822145365\n",
      "Train Score: 0.9999818449193006\n"
     ]
    }
   ],
   "source": [
    "RandomForest_Model(50)"
   ]
  },
  {
   "cell_type": "markdown",
   "metadata": {},
   "source": [
    "#### 100 Estimators"
   ]
  },
  {
   "cell_type": "code",
   "execution_count": 64,
   "metadata": {},
   "outputs": [
    {
     "name": "stdout",
     "output_type": "stream",
     "text": [
      "Number of Decision Trees: 100\n",
      "Test Score: 0.35622668227989435\n",
      "Train Score: 1.0\n"
     ]
    }
   ],
   "source": [
    "RandomForest_Model(100)"
   ]
  },
  {
   "cell_type": "markdown",
   "metadata": {},
   "source": [
    "# Bagging"
   ]
  },
  {
   "cell_type": "code",
   "execution_count": 65,
   "metadata": {},
   "outputs": [],
   "source": [
    "def Bagging_model(max_samples, max_features, n_estimators):\n",
    "    bg = BaggingClassifier(DecisionTreeClassifier(), max_samples = max_samples, \n",
    "                           max_features = max_features, n_estimators = n_estimators)\n",
    "    bg.fit(X_train, y_train)\n",
    "    bg_test_score = bg.score(X_test, y_test)\n",
    "    bg_train_score = bg.score(X_train, y_train)\n",
    "    print(\"Max Samples: \" + str(max_samples))\n",
    "    print(\"Max Features: \" + str(max_features))\n",
    "    print(\"Number of Decision Trees: \" + str(n_estimators))\n",
    "    print(\"Test Score: \" + str(bg_test_score))\n",
    "    print(\"Train Score: \" + str(bg_train_score))"
   ]
  },
  {
   "cell_type": "code",
   "execution_count": 66,
   "metadata": {},
   "outputs": [
    {
     "name": "stdout",
     "output_type": "stream",
     "text": [
      "Max Samples: 0.5\n",
      "Max Features: 1.0\n",
      "Number of Decision Trees: 20\n",
      "Test Score: 0.4378965714441328\n",
      "Train Score: 0.93596703037345\n"
     ]
    }
   ],
   "source": [
    "Bagging_model(0.5, 1.0, 20)"
   ]
  },
  {
   "cell_type": "markdown",
   "metadata": {},
   "source": [
    "# Boosting - Ada Boost"
   ]
  },
  {
   "cell_type": "code",
   "execution_count": 67,
   "metadata": {},
   "outputs": [],
   "source": [
    "def Boosting_model(n_estimators, learning_rate):\n",
    "    adb = AdaBoostClassifier(DecisionTreeClassifier(),n_estimators=n_estimators, learning_rate=learning_rate)\n",
    "    adb.fit(X_train, y_train)\n",
    "    adb_test_score = adb.score(X_test, y_test)\n",
    "    adb_train_score = adb.score(X_train, y_train)\n",
    "    print(\"Number of Decision Trees: \" + str(n_estimators))\n",
    "    print(\"Learning Rate: \" + str(learning_rate))\n",
    "    print(\"Test Score: \"+ str(adb_test_score))\n",
    "    print(\"Train Score: \" + str(adb_train_score))"
   ]
  },
  {
   "cell_type": "code",
   "execution_count": 68,
   "metadata": {},
   "outputs": [
    {
     "name": "stdout",
     "output_type": "stream",
     "text": [
      "Number of Decision Trees: 10\n",
      "Learning Rate: 1\n",
      "Test Score: 0.38610059638898725\n",
      "Train Score: 1.0\n"
     ]
    }
   ],
   "source": [
    "Boosting_model(10,1)"
   ]
  },
  {
   "cell_type": "code",
   "execution_count": 72,
   "metadata": {},
   "outputs": [],
   "source": [
    "# There appears to be a problem with overfitting even with a 90/10 split, an 80/20 split, and a 60/40 split\n",
    "# The Bagging model had the lowest training score and the highest testing score\n",
    "# We will move to removing some variables to see if this helps with the overfitting done during the training"
   ]
  },
  {
   "cell_type": "code",
   "execution_count": 73,
   "metadata": {},
   "outputs": [],
   "source": [
    "# Explore correlation between PULocationID and other variables\n",
    "# Pearson's Correlation\n",
    "# Above 0.5 and close to 1 indicates strong correlation\n",
    "# Below -0.5 and close to -1 indicates strong correlation in opposite directions\n",
    "# Range is from -1 to 1\n",
    "# Spearman's Correlation\n",
    "# Above 0.5 and close to 1 indicates strong correlation\n",
    "# Below -0.5 and close to -1 indicates strong correlation in opposite directions\n",
    "# Range is from -1 to 1\n",
    "# Covariance\n",
    "# The closer to 0, the more independent the variables are"
   ]
  },
  {
   "cell_type": "code",
   "execution_count": 84,
   "metadata": {},
   "outputs": [],
   "source": [
    "# We are always going to compare the variable to the PickUp location ID \n",
    "# so we can set that as data1 for all calculations\n",
    "data1 = df['PULocationID']\n",
    "def cor_cov(data2):\n",
    "    corr_p, _ = pearsonr(data1, data2)\n",
    "    print('Pearsons correlation: %.3f' % corr_p)\n",
    "    corr_s, _ = spearmanr(data1, data2)\n",
    "    print('Spearmans correlation: %.3f' % corr_s)\n",
    "    covariance = cov(data1, data2)\n",
    "    print(\"Covariance\")\n",
    "    print(covariance)"
   ]
  },
  {
   "cell_type": "markdown",
   "metadata": {},
   "source": [
    "# Passenger Count"
   ]
  },
  {
   "cell_type": "code",
   "execution_count": 85,
   "metadata": {},
   "outputs": [
    {
     "name": "stdout",
     "output_type": "stream",
     "text": [
      "Pearsons correlation: -0.007\n",
      "Spearmans correlation: -0.003\n",
      "Covariance\n",
      "[[ 4.61184523e+03 -5.81564259e-01]\n",
      " [-5.81564259e-01  1.55389489e+00]]\n"
     ]
    }
   ],
   "source": [
    "cor_cov(df['passenger_count'])"
   ]
  },
  {
   "cell_type": "markdown",
   "metadata": {},
   "source": [
    "# Trip Distance"
   ]
  },
  {
   "cell_type": "code",
   "execution_count": 86,
   "metadata": {},
   "outputs": [
    {
     "name": "stdout",
     "output_type": "stream",
     "text": [
      "Pearsons correlation: -0.074\n",
      "Spearmans correlation: -0.104\n",
      "Covariance\n",
      "[[4611.84522696  -25.35121142]\n",
      " [ -25.35121142   25.51366209]]\n"
     ]
    }
   ],
   "source": [
    "cor_cov(df['trip_distance'])"
   ]
  },
  {
   "cell_type": "markdown",
   "metadata": {},
   "source": [
    "# DropOff Location ID"
   ]
  },
  {
   "cell_type": "code",
   "execution_count": 87,
   "metadata": {},
   "outputs": [
    {
     "name": "stdout",
     "output_type": "stream",
     "text": [
      "Pearsons correlation: 0.003\n",
      "Spearmans correlation: 0.002\n",
      "Covariance\n",
      "[[4611.84522696   15.64676741]\n",
      " [  15.64676741 5445.23575684]]\n"
     ]
    }
   ],
   "source": [
    "cor_cov(df['DOLocationID'])"
   ]
  },
  {
   "cell_type": "markdown",
   "metadata": {},
   "source": [
    "# Fare Amount"
   ]
  },
  {
   "cell_type": "code",
   "execution_count": 88,
   "metadata": {},
   "outputs": [
    {
     "name": "stdout",
     "output_type": "stream",
     "text": [
      "Pearsons correlation: -0.067\n",
      "Spearmans correlation: -0.096\n",
      "Covariance\n",
      "[[4611.84522696  -63.49599187]\n",
      " [ -63.49599187  192.74933461]]\n"
     ]
    }
   ],
   "source": [
    "cor_cov(df['fare_amount'])"
   ]
  },
  {
   "cell_type": "markdown",
   "metadata": {},
   "source": [
    "# Surcharge"
   ]
  },
  {
   "cell_type": "code",
   "execution_count": 89,
   "metadata": {},
   "outputs": [
    {
     "name": "stdout",
     "output_type": "stream",
     "text": [
      "Pearsons correlation: 0.004\n",
      "Spearmans correlation: 0.005\n",
      "Covariance\n",
      "[[4.61184523e+03 3.80480040e-04]\n",
      " [3.80480040e-04 1.96072024e-06]]\n"
     ]
    }
   ],
   "source": [
    "cor_cov(df['surcharge'])"
   ]
  },
  {
   "cell_type": "markdown",
   "metadata": {},
   "source": [
    "# MTA Tax"
   ]
  },
  {
   "cell_type": "code",
   "execution_count": 90,
   "metadata": {},
   "outputs": [
    {
     "name": "stdout",
     "output_type": "stream",
     "text": [
      "Pearsons correlation: 0.007\n",
      "Spearmans correlation: 0.010\n",
      "Covariance\n",
      "[[4.61184523e+03 1.24731903e-02]\n",
      " [1.24731903e-02 6.28839162e-04]]\n"
     ]
    }
   ],
   "source": [
    "cor_cov(df['mta_tax'])"
   ]
  },
  {
   "cell_type": "markdown",
   "metadata": {},
   "source": [
    "# Tip Amount"
   ]
  },
  {
   "cell_type": "code",
   "execution_count": 91,
   "metadata": {},
   "outputs": [
    {
     "name": "stdout",
     "output_type": "stream",
     "text": [
      "Pearsons correlation: -0.060\n",
      "Spearmans correlation: -0.094\n",
      "Covariance\n",
      "[[4611.84522696  -12.12148261]\n",
      " [ -12.12148261    8.93049957]]\n"
     ]
    }
   ],
   "source": [
    "cor_cov(df['tip_amount'])"
   ]
  },
  {
   "cell_type": "markdown",
   "metadata": {},
   "source": [
    "# Tolls Amount"
   ]
  },
  {
   "cell_type": "code",
   "execution_count": 92,
   "metadata": {},
   "outputs": [
    {
     "name": "stdout",
     "output_type": "stream",
     "text": [
      "Pearsons correlation: -0.042\n",
      "Spearmans correlation: -0.083\n",
      "Covariance\n",
      "[[ 4.61184523e+03 -5.05609043e+00]\n",
      " [-5.05609043e+00  3.12196452e+00]]\n"
     ]
    }
   ],
   "source": [
    "cor_cov(df['tolls_amount'])"
   ]
  },
  {
   "cell_type": "markdown",
   "metadata": {},
   "source": [
    "# Total Amount"
   ]
  },
  {
   "cell_type": "code",
   "execution_count": 93,
   "metadata": {},
   "outputs": [
    {
     "name": "stdout",
     "output_type": "stream",
     "text": [
      "Pearsons correlation: -0.069\n",
      "Spearmans correlation: -0.103\n",
      "Covariance\n",
      "[[4611.84522696  -81.95583379]\n",
      " [ -81.95583379  310.12489226]]\n"
     ]
    }
   ],
   "source": [
    "cor_cov(df['total_amount'])"
   ]
  },
  {
   "cell_type": "markdown",
   "metadata": {},
   "source": [
    "# Pickup Month"
   ]
  },
  {
   "cell_type": "code",
   "execution_count": 94,
   "metadata": {},
   "outputs": [
    {
     "name": "stdout",
     "output_type": "stream",
     "text": [
      "Pearsons correlation: -0.012\n",
      "Spearmans correlation: -0.007\n",
      "Covariance\n",
      "[[ 4.61184523e+03 -2.64032104e+00]\n",
      " [-2.64032104e+00  1.14021120e+01]]\n"
     ]
    }
   ],
   "source": [
    "cor_cov(df['Pickup_Month'])"
   ]
  },
  {
   "cell_type": "markdown",
   "metadata": {},
   "source": [
    "# Pickup Year"
   ]
  },
  {
   "cell_type": "code",
   "execution_count": 95,
   "metadata": {},
   "outputs": [
    {
     "name": "stdout",
     "output_type": "stream",
     "text": [
      "Pearsons correlation: -0.042\n",
      "Spearmans correlation: -0.047\n",
      "Covariance\n",
      "[[ 4.61184523e+03 -2.30594385e+00]\n",
      " [-2.30594385e+00  6.64016743e-01]]\n"
     ]
    }
   ],
   "source": [
    "cor_cov(df['Pickup_Year'])"
   ]
  },
  {
   "cell_type": "markdown",
   "metadata": {},
   "source": [
    "# Dropoff Month"
   ]
  },
  {
   "cell_type": "code",
   "execution_count": 96,
   "metadata": {},
   "outputs": [
    {
     "name": "stdout",
     "output_type": "stream",
     "text": [
      "Pearsons correlation: -0.011\n",
      "Spearmans correlation: -0.007\n",
      "Covariance\n",
      "[[ 4.61184523e+03 -2.48688412e+00]\n",
      " [-2.48688412e+00  1.14020161e+01]]\n"
     ]
    }
   ],
   "source": [
    "cor_cov(df['Dropoff_Month'])"
   ]
  },
  {
   "cell_type": "markdown",
   "metadata": {},
   "source": [
    "# Dropoff Year"
   ]
  },
  {
   "cell_type": "code",
   "execution_count": 97,
   "metadata": {},
   "outputs": [
    {
     "name": "stdout",
     "output_type": "stream",
     "text": [
      "Pearsons correlation: -0.042\n",
      "Spearmans correlation: -0.047\n",
      "Covariance\n",
      "[[ 4.61184523e+03 -2.31390823e+00]\n",
      " [-2.31390823e+00  6.64134167e-01]]\n"
     ]
    }
   ],
   "source": [
    "cor_cov(df['Dropoff_Year'])"
   ]
  },
  {
   "cell_type": "markdown",
   "metadata": {},
   "source": [
    "# Difference Seconds (Trip Duration)"
   ]
  },
  {
   "cell_type": "code",
   "execution_count": 98,
   "metadata": {},
   "outputs": [
    {
     "name": "stdout",
     "output_type": "stream",
     "text": [
      "Pearsons correlation: -0.003\n",
      "Spearmans correlation: -0.064\n",
      "Covariance\n",
      "[[ 4.61184523e+03 -8.42701926e+02]\n",
      " [-8.42701926e+02  1.43098937e+07]]\n"
     ]
    }
   ],
   "source": [
    "cor_cov(df['diff_seconds'])"
   ]
  },
  {
   "cell_type": "markdown",
   "metadata": {},
   "source": [
    "# Tip Percentage"
   ]
  },
  {
   "cell_type": "code",
   "execution_count": 99,
   "metadata": {},
   "outputs": [
    {
     "name": "stdout",
     "output_type": "stream",
     "text": [
      "Pearsons correlation: -0.000\n",
      "Spearmans correlation: -0.011\n",
      "Covariance\n",
      "[[ 4.61184523e+03 -3.26597701e-04]\n",
      " [-3.26597701e-04  5.09342137e-03]]\n"
     ]
    }
   ],
   "source": [
    "cor_cov(df['tip_percentage'])"
   ]
  },
  {
   "cell_type": "code",
   "execution_count": 100,
   "metadata": {},
   "outputs": [],
   "source": [
    "# There are no strong correlations. All are close to zero.\n",
    "# Trip Distance has a higher Covariance\n",
    "# Also Dropoff Location ID, Fare Amount, Tip Amount, and Total Amount\n",
    "# Therefore I will redo the models with only these variables"
   ]
  },
  {
   "cell_type": "code",
   "execution_count": 101,
   "metadata": {},
   "outputs": [
    {
     "data": {
      "text/plain": [
       "Index(['passenger_count', 'trip_distance', 'PULocationID', 'DOLocationID',\n",
       "       'fare_amount', 'surcharge', 'mta_tax', 'tip_amount', 'tolls_amount',\n",
       "       'total_amount', 'Pickup_Month', 'Pickup_Year', 'Dropoff_Month',\n",
       "       'Dropoff_Year', 'diff_seconds', 'tip_percentage'],\n",
       "      dtype='object')"
      ]
     },
     "execution_count": 101,
     "metadata": {},
     "output_type": "execute_result"
    }
   ],
   "source": [
    "df.columns"
   ]
  },
  {
   "cell_type": "code",
   "execution_count": 102,
   "metadata": {},
   "outputs": [],
   "source": [
    "df_updated = df.drop(['passenger_count','surcharge','mta_tax','tolls_amount','Pickup_Month', 'Pickup_Year', \n",
    "                      'Dropoff_Month','Dropoff_Year', 'diff_seconds', 'tip_percentage'], axis=1)"
   ]
  },
  {
   "cell_type": "code",
   "execution_count": 103,
   "metadata": {},
   "outputs": [
    {
     "data": {
      "text/html": [
       "<div>\n",
       "<style scoped>\n",
       "    .dataframe tbody tr th:only-of-type {\n",
       "        vertical-align: middle;\n",
       "    }\n",
       "\n",
       "    .dataframe tbody tr th {\n",
       "        vertical-align: top;\n",
       "    }\n",
       "\n",
       "    .dataframe thead th {\n",
       "        text-align: right;\n",
       "    }\n",
       "</style>\n",
       "<table border=\"1\" class=\"dataframe\">\n",
       "  <thead>\n",
       "    <tr style=\"text-align: right;\">\n",
       "      <th></th>\n",
       "      <th>trip_distance</th>\n",
       "      <th>PULocationID</th>\n",
       "      <th>DOLocationID</th>\n",
       "      <th>fare_amount</th>\n",
       "      <th>tip_amount</th>\n",
       "      <th>total_amount</th>\n",
       "    </tr>\n",
       "  </thead>\n",
       "  <tbody>\n",
       "    <tr>\n",
       "      <td>0</td>\n",
       "      <td>2.60</td>\n",
       "      <td>79</td>\n",
       "      <td>163</td>\n",
       "      <td>12</td>\n",
       "      <td>2</td>\n",
       "      <td>16.56</td>\n",
       "    </tr>\n",
       "    <tr>\n",
       "      <td>1</td>\n",
       "      <td>0.66</td>\n",
       "      <td>79</td>\n",
       "      <td>79</td>\n",
       "      <td>5</td>\n",
       "      <td>1</td>\n",
       "      <td>8.16</td>\n",
       "    </tr>\n",
       "    <tr>\n",
       "      <td>2</td>\n",
       "      <td>0.60</td>\n",
       "      <td>79</td>\n",
       "      <td>232</td>\n",
       "      <td>4</td>\n",
       "      <td>1</td>\n",
       "      <td>7.50</td>\n",
       "    </tr>\n",
       "    <tr>\n",
       "      <td>3</td>\n",
       "      <td>4.20</td>\n",
       "      <td>79</td>\n",
       "      <td>146</td>\n",
       "      <td>15</td>\n",
       "      <td>3</td>\n",
       "      <td>19.56</td>\n",
       "    </tr>\n",
       "    <tr>\n",
       "      <td>4</td>\n",
       "      <td>9.10</td>\n",
       "      <td>79</td>\n",
       "      <td>257</td>\n",
       "      <td>26</td>\n",
       "      <td>5</td>\n",
       "      <td>32.75</td>\n",
       "    </tr>\n",
       "  </tbody>\n",
       "</table>\n",
       "</div>"
      ],
      "text/plain": [
       "   trip_distance  PULocationID  DOLocationID  fare_amount  tip_amount  \\\n",
       "0           2.60            79           163           12           2   \n",
       "1           0.66            79            79            5           1   \n",
       "2           0.60            79           232            4           1   \n",
       "3           4.20            79           146           15           3   \n",
       "4           9.10            79           257           26           5   \n",
       "\n",
       "   total_amount  \n",
       "0         16.56  \n",
       "1          8.16  \n",
       "2          7.50  \n",
       "3         19.56  \n",
       "4         32.75  "
      ]
     },
     "execution_count": 103,
     "metadata": {},
     "output_type": "execute_result"
    }
   ],
   "source": [
    "df_updated.head()"
   ]
  },
  {
   "cell_type": "code",
   "execution_count": 106,
   "metadata": {},
   "outputs": [
    {
     "data": {
      "text/plain": [
       "(91802, 6)"
      ]
     },
     "execution_count": 106,
     "metadata": {},
     "output_type": "execute_result"
    }
   ],
   "source": [
    "df_updated.shape"
   ]
  },
  {
   "cell_type": "code",
   "execution_count": 118,
   "metadata": {},
   "outputs": [],
   "source": [
    "# Create X variable for features and Y variable for target\n",
    "X = df_updated.drop('PULocationID', axis=1) #features\n",
    "y = df_updated['PULocationID'] #target"
   ]
  },
  {
   "cell_type": "code",
   "execution_count": 119,
   "metadata": {},
   "outputs": [],
   "source": [
    "# Split the Train and Test Data\n",
    "# Apply Scaling and Fitting\n",
    "# Train and Test Split\n",
    "X_train, X_test, y_train, y_test = train_test_split(X, y, test_size = 0.2, random_state = 42)\n",
    "# Applying standard scaling\n",
    "sc = StandardScaler()\n",
    "X_train = sc.fit_transform(X_train)\n",
    "X_test = sc.transform(X_test)"
   ]
  },
  {
   "cell_type": "code",
   "execution_count": 120,
   "metadata": {},
   "outputs": [
    {
     "name": "stdout",
     "output_type": "stream",
     "text": [
      "              precision    recall  f1-score   support\n",
      "\n",
      "          10       0.00      0.00      0.00         7\n",
      "          28       0.00      0.00      0.00         0\n",
      "          48       0.26      0.38      0.31      1904\n",
      "          56       0.00      0.00      0.00         3\n",
      "          68       0.30      0.10      0.15      1241\n",
      "          79       0.32      0.62      0.42      2601\n",
      "         130       0.00      0.00      0.00         2\n",
      "         132       0.85      0.93      0.89      1644\n",
      "         134       0.00      0.00      0.00         2\n",
      "         138       0.56      0.70      0.62       868\n",
      "         148       0.33      0.26      0.29      1718\n",
      "         154       0.00      0.00      0.00         2\n",
      "         161       0.29      0.39      0.33      1662\n",
      "         164       0.28      0.11      0.16      1299\n",
      "         207       0.00      0.00      0.00         0\n",
      "         216       0.00      0.00      0.00         1\n",
      "         230       0.26      0.17      0.20      1949\n",
      "         234       0.23      0.08      0.11      1636\n",
      "         249       0.32      0.25      0.28      1822\n",
      "\n",
      "    accuracy                           0.37     18361\n",
      "   macro avg       0.21      0.21      0.20     18361\n",
      "weighted avg       0.35      0.37      0.34     18361\n",
      "\n",
      "[[   0    0    0    0    0    0    0    4    0    3    0    0    0    0\n",
      "     0    0    0    0    0]\n",
      " [   0    0    0    0    0    0    0    0    0    0    0    0    0    0\n",
      "     0    0    0    0    0]\n",
      " [   0    0  715    0   37  288    0   22    0   45   72    0  257   58\n",
      "     0    0  287   60   63]\n",
      " [   0    0    0    0    0    0    0    0    0    3    0    0    0    0\n",
      "     0    0    0    0    0]\n",
      " [   0    0  198    0  127  351    0   11    0   36   66    0  120   55\n",
      "     0    0   82   55  140]\n",
      " [   1    0  208    0   29 1601    0   25    0   55  281    0  147   25\n",
      "     0    0   59   25  145]\n",
      " [   1    0    0    0    0    0    0    0    0    1    0    0    0    0\n",
      "     0    0    0    0    0]\n",
      " [   3    0   10    0    2   17    0 1528    0   60   11    0    4    2\n",
      "     0    0    7    0    0]\n",
      " [   0    0    0    0    0    0    0    0    0    1    0    0    0    0\n",
      "     0    0    0    0    1]\n",
      " [   1    1   51    0    3   33    0  114    0  611   17    0    8    2\n",
      "     0    0   17    2    8]\n",
      " [   0    0   94    0   12  771    0   14    0   33  454    0  152    6\n",
      "     1    0   51   18  112]\n",
      " [   0    0    0    0    0    0    0    2    0    0    0    0    0    0\n",
      "     0    0    0    0    0]\n",
      " [   0    0  300    0   27  179    0   15    0   49   95    0  643   59\n",
      "     0    0  213   35   47]\n",
      " [   0    0  196    0   53  316    0   13    0   38   63    0  183  142\n",
      "     0    0   88   98  109]\n",
      " [   0    0    0    0    0    0    0    0    0    0    0    0    0    0\n",
      "     0    0    0    0    0]\n",
      " [   0    0    0    0    0    0    0    1    0    0    0    0    0    0\n",
      "     0    0    0    0    0]\n",
      " [   0    0  543    0   28  247    0   25    0   66   67    0  469   48\n",
      "     0    0  322   59   75]\n",
      " [   0    0  239    0   61  585    0   15    0   45   60    0  113   88\n",
      "     0    0   69  125  236]\n",
      " [   0    0  194    0   49  638    0    9    0   46  187    0  117   21\n",
      "     0    0   47   65  449]]\n",
      "Model Accuracy: 36.58%\n"
     ]
    },
    {
     "name": "stderr",
     "output_type": "stream",
     "text": [
      "/Users/davidsuffolk/anaconda3/lib/python3.7/site-packages/sklearn/neural_network/multilayer_perceptron.py:566: ConvergenceWarning: Stochastic Optimizer: Maximum iterations (500) reached and the optimization hasn't converged yet.\n",
      "  % self.max_iter, ConvergenceWarning)\n",
      "/Users/davidsuffolk/anaconda3/lib/python3.7/site-packages/sklearn/metrics/classification.py:1437: UndefinedMetricWarning: Precision and F-score are ill-defined and being set to 0.0 in labels with no predicted samples.\n",
      "  'precision', 'predicted', average, warn_for)\n",
      "/Users/davidsuffolk/anaconda3/lib/python3.7/site-packages/sklearn/metrics/classification.py:1439: UndefinedMetricWarning: Recall and F-score are ill-defined and being set to 0.0 in labels with no true samples.\n",
      "  'recall', 'true', average, warn_for)\n"
     ]
    }
   ],
   "source": [
    "nn(X_train, X_test, y_train, y_test)"
   ]
  },
  {
   "cell_type": "code",
   "execution_count": 121,
   "metadata": {},
   "outputs": [
    {
     "name": "stdout",
     "output_type": "stream",
     "text": [
      "Number of Decision Trees: 10\n",
      "Test Score: 0.3997603616360765\n",
      "Train Score: 0.9320543020928365\n"
     ]
    }
   ],
   "source": [
    "RandomForest_Model(10)"
   ]
  },
  {
   "cell_type": "code",
   "execution_count": 122,
   "metadata": {},
   "outputs": [
    {
     "name": "stdout",
     "output_type": "stream",
     "text": [
      "Number of Decision Trees: 50\n",
      "Test Score: 0.4145743695877131\n",
      "Train Score: 0.949156465734399\n"
     ]
    }
   ],
   "source": [
    "RandomForest_Model(50)"
   ]
  },
  {
   "cell_type": "code",
   "execution_count": 123,
   "metadata": {},
   "outputs": [
    {
     "name": "stdout",
     "output_type": "stream",
     "text": [
      "Number of Decision Trees: 100\n",
      "Test Score: 0.41522792876205\n",
      "Train Score: 0.949306245829986\n"
     ]
    }
   ],
   "source": [
    "RandomForest_Model(100)"
   ]
  },
  {
   "cell_type": "code",
   "execution_count": 124,
   "metadata": {},
   "outputs": [
    {
     "name": "stdout",
     "output_type": "stream",
     "text": [
      "Max Samples: 0.5\n",
      "Max Features: 1.0\n",
      "Number of Decision Trees: 20\n",
      "Test Score: 0.44158814879363867\n",
      "Train Score: 0.8680437357879114\n"
     ]
    }
   ],
   "source": [
    "Bagging_model(0.5, 1.0, 20)"
   ]
  },
  {
   "cell_type": "code",
   "execution_count": 125,
   "metadata": {},
   "outputs": [
    {
     "name": "stdout",
     "output_type": "stream",
     "text": [
      "Number of Decision Trees: 10\n",
      "Learning Rate: 1\n",
      "Test Score: 0.4049343717662437\n",
      "Train Score: 0.9492790130853338\n"
     ]
    }
   ],
   "source": [
    "Boosting_model(10,1)"
   ]
  },
  {
   "cell_type": "code",
   "execution_count": 126,
   "metadata": {},
   "outputs": [
    {
     "data": {
      "text/html": [
       "<div>\n",
       "<style scoped>\n",
       "    .dataframe tbody tr th:only-of-type {\n",
       "        vertical-align: middle;\n",
       "    }\n",
       "\n",
       "    .dataframe tbody tr th {\n",
       "        vertical-align: top;\n",
       "    }\n",
       "\n",
       "    .dataframe thead th {\n",
       "        text-align: right;\n",
       "    }\n",
       "</style>\n",
       "<table border=\"1\" class=\"dataframe\">\n",
       "  <thead>\n",
       "    <tr style=\"text-align: right;\">\n",
       "      <th></th>\n",
       "      <th>trip_distance</th>\n",
       "      <th>PULocationID</th>\n",
       "      <th>DOLocationID</th>\n",
       "      <th>fare_amount</th>\n",
       "      <th>tip_amount</th>\n",
       "      <th>total_amount</th>\n",
       "    </tr>\n",
       "  </thead>\n",
       "  <tbody>\n",
       "    <tr>\n",
       "      <td>0</td>\n",
       "      <td>2.60</td>\n",
       "      <td>79</td>\n",
       "      <td>163</td>\n",
       "      <td>12</td>\n",
       "      <td>2</td>\n",
       "      <td>16.56</td>\n",
       "    </tr>\n",
       "    <tr>\n",
       "      <td>1</td>\n",
       "      <td>0.66</td>\n",
       "      <td>79</td>\n",
       "      <td>79</td>\n",
       "      <td>5</td>\n",
       "      <td>1</td>\n",
       "      <td>8.16</td>\n",
       "    </tr>\n",
       "    <tr>\n",
       "      <td>2</td>\n",
       "      <td>0.60</td>\n",
       "      <td>79</td>\n",
       "      <td>232</td>\n",
       "      <td>4</td>\n",
       "      <td>1</td>\n",
       "      <td>7.50</td>\n",
       "    </tr>\n",
       "    <tr>\n",
       "      <td>3</td>\n",
       "      <td>4.20</td>\n",
       "      <td>79</td>\n",
       "      <td>146</td>\n",
       "      <td>15</td>\n",
       "      <td>3</td>\n",
       "      <td>19.56</td>\n",
       "    </tr>\n",
       "    <tr>\n",
       "      <td>4</td>\n",
       "      <td>9.10</td>\n",
       "      <td>79</td>\n",
       "      <td>257</td>\n",
       "      <td>26</td>\n",
       "      <td>5</td>\n",
       "      <td>32.75</td>\n",
       "    </tr>\n",
       "  </tbody>\n",
       "</table>\n",
       "</div>"
      ],
      "text/plain": [
       "   trip_distance  PULocationID  DOLocationID  fare_amount  tip_amount  \\\n",
       "0           2.60            79           163           12           2   \n",
       "1           0.66            79            79            5           1   \n",
       "2           0.60            79           232            4           1   \n",
       "3           4.20            79           146           15           3   \n",
       "4           9.10            79           257           26           5   \n",
       "\n",
       "   total_amount  \n",
       "0         16.56  \n",
       "1          8.16  \n",
       "2          7.50  \n",
       "3         19.56  \n",
       "4         32.75  "
      ]
     },
     "execution_count": 126,
     "metadata": {},
     "output_type": "execute_result"
    }
   ],
   "source": [
    "df_updated.head()"
   ]
  },
  {
   "cell_type": "code",
   "execution_count": 127,
   "metadata": {},
   "outputs": [],
   "source": [
    "# 3 Locations\n",
    "# JFK, East Village, Astoria Park\n",
    "JFK = df_updated[df_updated[\"PULocationID\"] == 132]\n",
    "EASTV = df_updated[df_updated[\"PULocationID\"] == 79]\n",
    "ASTORIAPK = df_updated[df_updated[\"PULocationID\"] == 8]"
   ]
  },
  {
   "cell_type": "code",
   "execution_count": 128,
   "metadata": {},
   "outputs": [],
   "source": [
    "three_frames = [JFK,EASTV,ASTORIAPK]"
   ]
  },
  {
   "cell_type": "code",
   "execution_count": 129,
   "metadata": {},
   "outputs": [],
   "source": [
    "df_three = pd.concat(three_frames)"
   ]
  },
  {
   "cell_type": "code",
   "execution_count": 130,
   "metadata": {},
   "outputs": [
    {
     "data": {
      "text/html": [
       "<div>\n",
       "<style scoped>\n",
       "    .dataframe tbody tr th:only-of-type {\n",
       "        vertical-align: middle;\n",
       "    }\n",
       "\n",
       "    .dataframe tbody tr th {\n",
       "        vertical-align: top;\n",
       "    }\n",
       "\n",
       "    .dataframe thead th {\n",
       "        text-align: right;\n",
       "    }\n",
       "</style>\n",
       "<table border=\"1\" class=\"dataframe\">\n",
       "  <thead>\n",
       "    <tr style=\"text-align: right;\">\n",
       "      <th></th>\n",
       "      <th>trip_distance</th>\n",
       "      <th>PULocationID</th>\n",
       "      <th>DOLocationID</th>\n",
       "      <th>fare_amount</th>\n",
       "      <th>tip_amount</th>\n",
       "      <th>total_amount</th>\n",
       "    </tr>\n",
       "  </thead>\n",
       "  <tbody>\n",
       "    <tr>\n",
       "      <td>22821</td>\n",
       "      <td>20.30</td>\n",
       "      <td>132</td>\n",
       "      <td>61</td>\n",
       "      <td>58</td>\n",
       "      <td>5</td>\n",
       "      <td>64.30</td>\n",
       "    </tr>\n",
       "    <tr>\n",
       "      <td>22822</td>\n",
       "      <td>12.40</td>\n",
       "      <td>132</td>\n",
       "      <td>49</td>\n",
       "      <td>37</td>\n",
       "      <td>7</td>\n",
       "      <td>45.95</td>\n",
       "    </tr>\n",
       "    <tr>\n",
       "      <td>22823</td>\n",
       "      <td>18.83</td>\n",
       "      <td>132</td>\n",
       "      <td>41</td>\n",
       "      <td>52</td>\n",
       "      <td>8</td>\n",
       "      <td>67.09</td>\n",
       "    </tr>\n",
       "    <tr>\n",
       "      <td>22824</td>\n",
       "      <td>18.70</td>\n",
       "      <td>132</td>\n",
       "      <td>262</td>\n",
       "      <td>52</td>\n",
       "      <td>10</td>\n",
       "      <td>68.34</td>\n",
       "    </tr>\n",
       "    <tr>\n",
       "      <td>22825</td>\n",
       "      <td>11.40</td>\n",
       "      <td>132</td>\n",
       "      <td>138</td>\n",
       "      <td>31</td>\n",
       "      <td>4</td>\n",
       "      <td>36.30</td>\n",
       "    </tr>\n",
       "  </tbody>\n",
       "</table>\n",
       "</div>"
      ],
      "text/plain": [
       "       trip_distance  PULocationID  DOLocationID  fare_amount  tip_amount  \\\n",
       "22821          20.30           132            61           58           5   \n",
       "22822          12.40           132            49           37           7   \n",
       "22823          18.83           132            41           52           8   \n",
       "22824          18.70           132           262           52          10   \n",
       "22825          11.40           132           138           31           4   \n",
       "\n",
       "       total_amount  \n",
       "22821         64.30  \n",
       "22822         45.95  \n",
       "22823         67.09  \n",
       "22824         68.34  \n",
       "22825         36.30  "
      ]
     },
     "execution_count": 130,
     "metadata": {},
     "output_type": "execute_result"
    }
   ],
   "source": [
    "df_three.head()"
   ]
  },
  {
   "cell_type": "code",
   "execution_count": 131,
   "metadata": {},
   "outputs": [
    {
     "data": {
      "text/plain": [
       "(21207, 6)"
      ]
     },
     "execution_count": 131,
     "metadata": {},
     "output_type": "execute_result"
    }
   ],
   "source": [
    "df_three.shape"
   ]
  },
  {
   "cell_type": "code",
   "execution_count": 133,
   "metadata": {},
   "outputs": [],
   "source": [
    "# Create X variable for features and Y variable for target\n",
    "X = df_three.drop('PULocationID', axis=1) #features\n",
    "y = df_three['PULocationID'] #target"
   ]
  },
  {
   "cell_type": "code",
   "execution_count": 134,
   "metadata": {},
   "outputs": [],
   "source": [
    "# Split the Train and Test Data\n",
    "# Apply Scaling and Fitting\n",
    "# Train and Test Split\n",
    "X_train, X_test, y_train, y_test = train_test_split(X, y, test_size = 0.2, random_state = 42)\n",
    "# Applying standard scaling\n",
    "sc = StandardScaler()\n",
    "X_train = sc.fit_transform(X_train)\n",
    "X_test = sc.transform(X_test)"
   ]
  },
  {
   "cell_type": "code",
   "execution_count": 135,
   "metadata": {},
   "outputs": [
    {
     "name": "stdout",
     "output_type": "stream",
     "text": [
      "              precision    recall  f1-score   support\n",
      "\n",
      "           8       0.00      0.00      0.00         1\n",
      "          79       0.99      0.99      0.99      2604\n",
      "         132       0.98      0.98      0.98      1637\n",
      "\n",
      "    accuracy                           0.99      4242\n",
      "   macro avg       0.66      0.66      0.66      4242\n",
      "weighted avg       0.99      0.99      0.99      4242\n",
      "\n",
      "[[   0    1    0]\n",
      " [   0 2574   30]\n",
      " [   1   24 1612]]\n",
      "Model Accuracy: 98.68%\n"
     ]
    }
   ],
   "source": [
    "nn(X_train, X_test, y_train, y_test)"
   ]
  },
  {
   "cell_type": "code",
   "execution_count": 136,
   "metadata": {},
   "outputs": [
    {
     "name": "stdout",
     "output_type": "stream",
     "text": [
      "Number of Decision Trees: 10\n",
      "Test Score: 0.9884488448844885\n",
      "Train Score: 0.9988800471559093\n"
     ]
    }
   ],
   "source": [
    "RandomForest_Model(10)"
   ]
  },
  {
   "cell_type": "code",
   "execution_count": 137,
   "metadata": {},
   "outputs": [
    {
     "name": "stdout",
     "output_type": "stream",
     "text": [
      "Number of Decision Trees: 50\n",
      "Test Score: 0.9882131070249882\n",
      "Train Score: 1.0\n"
     ]
    }
   ],
   "source": [
    "RandomForest_Model(50)"
   ]
  },
  {
   "cell_type": "code",
   "execution_count": 138,
   "metadata": {},
   "outputs": [
    {
     "name": "stdout",
     "output_type": "stream",
     "text": [
      "Number of Decision Trees: 100\n",
      "Test Score: 0.987034417727487\n",
      "Train Score: 1.0\n"
     ]
    }
   ],
   "source": [
    "RandomForest_Model(100)"
   ]
  },
  {
   "cell_type": "code",
   "execution_count": 139,
   "metadata": {},
   "outputs": [
    {
     "name": "stdout",
     "output_type": "stream",
     "text": [
      "Max Samples: 0.5\n",
      "Max Features: 1.0\n",
      "Number of Decision Trees: 20\n",
      "Test Score: 0.9877416313059877\n",
      "Train Score: 0.9957559681697613\n"
     ]
    }
   ],
   "source": [
    "Bagging_model(0.5, 1.0, 20)"
   ]
  },
  {
   "cell_type": "code",
   "execution_count": 140,
   "metadata": {},
   "outputs": [
    {
     "name": "stdout",
     "output_type": "stream",
     "text": [
      "Number of Decision Trees: 10\n",
      "Learning Rate: 1\n",
      "Test Score: 0.9827911362564828\n",
      "Train Score: 1.0\n"
     ]
    }
   ],
   "source": [
    "Boosting_model(10,1)"
   ]
  },
  {
   "cell_type": "code",
   "execution_count": 141,
   "metadata": {},
   "outputs": [],
   "source": [
    "# 3 Locations\n",
    "# LaGuardia, Clinton East, Jamaica\n",
    "LaGuardia = df_updated[df_updated[\"PULocationID\"] == 138]\n",
    "ClintonEast = df_updated[df_updated[\"PULocationID\"] == 48]\n",
    "Jamaica = df_updated[df_updated[\"PULocationID\"] == 130]"
   ]
  },
  {
   "cell_type": "code",
   "execution_count": 142,
   "metadata": {},
   "outputs": [],
   "source": [
    "six_frames = [JFK,EASTV,ASTORIAPK,LaGuardia,ClintonEast,Jamaica]"
   ]
  },
  {
   "cell_type": "code",
   "execution_count": 143,
   "metadata": {},
   "outputs": [],
   "source": [
    "data_six = pd.concat(six_frames)"
   ]
  },
  {
   "cell_type": "code",
   "execution_count": 144,
   "metadata": {},
   "outputs": [
    {
     "data": {
      "text/html": [
       "<div>\n",
       "<style scoped>\n",
       "    .dataframe tbody tr th:only-of-type {\n",
       "        vertical-align: middle;\n",
       "    }\n",
       "\n",
       "    .dataframe tbody tr th {\n",
       "        vertical-align: top;\n",
       "    }\n",
       "\n",
       "    .dataframe thead th {\n",
       "        text-align: right;\n",
       "    }\n",
       "</style>\n",
       "<table border=\"1\" class=\"dataframe\">\n",
       "  <thead>\n",
       "    <tr style=\"text-align: right;\">\n",
       "      <th></th>\n",
       "      <th>trip_distance</th>\n",
       "      <th>PULocationID</th>\n",
       "      <th>DOLocationID</th>\n",
       "      <th>fare_amount</th>\n",
       "      <th>tip_amount</th>\n",
       "      <th>total_amount</th>\n",
       "    </tr>\n",
       "  </thead>\n",
       "  <tbody>\n",
       "    <tr>\n",
       "      <td>22821</td>\n",
       "      <td>20.30</td>\n",
       "      <td>132</td>\n",
       "      <td>61</td>\n",
       "      <td>58</td>\n",
       "      <td>5</td>\n",
       "      <td>64.30</td>\n",
       "    </tr>\n",
       "    <tr>\n",
       "      <td>22822</td>\n",
       "      <td>12.40</td>\n",
       "      <td>132</td>\n",
       "      <td>49</td>\n",
       "      <td>37</td>\n",
       "      <td>7</td>\n",
       "      <td>45.95</td>\n",
       "    </tr>\n",
       "    <tr>\n",
       "      <td>22823</td>\n",
       "      <td>18.83</td>\n",
       "      <td>132</td>\n",
       "      <td>41</td>\n",
       "      <td>52</td>\n",
       "      <td>8</td>\n",
       "      <td>67.09</td>\n",
       "    </tr>\n",
       "    <tr>\n",
       "      <td>22824</td>\n",
       "      <td>18.70</td>\n",
       "      <td>132</td>\n",
       "      <td>262</td>\n",
       "      <td>52</td>\n",
       "      <td>10</td>\n",
       "      <td>68.34</td>\n",
       "    </tr>\n",
       "    <tr>\n",
       "      <td>22825</td>\n",
       "      <td>11.40</td>\n",
       "      <td>132</td>\n",
       "      <td>138</td>\n",
       "      <td>31</td>\n",
       "      <td>4</td>\n",
       "      <td>36.30</td>\n",
       "    </tr>\n",
       "  </tbody>\n",
       "</table>\n",
       "</div>"
      ],
      "text/plain": [
       "       trip_distance  PULocationID  DOLocationID  fare_amount  tip_amount  \\\n",
       "22821          20.30           132            61           58           5   \n",
       "22822          12.40           132            49           37           7   \n",
       "22823          18.83           132            41           52           8   \n",
       "22824          18.70           132           262           52          10   \n",
       "22825          11.40           132           138           31           4   \n",
       "\n",
       "       total_amount  \n",
       "22821         64.30  \n",
       "22822         45.95  \n",
       "22823         67.09  \n",
       "22824         68.34  \n",
       "22825         36.30  "
      ]
     },
     "execution_count": 144,
     "metadata": {},
     "output_type": "execute_result"
    }
   ],
   "source": [
    "data_six.head()"
   ]
  },
  {
   "cell_type": "code",
   "execution_count": 145,
   "metadata": {},
   "outputs": [
    {
     "data": {
      "text/plain": [
       "(35471, 6)"
      ]
     },
     "execution_count": 145,
     "metadata": {},
     "output_type": "execute_result"
    }
   ],
   "source": [
    "data_six.shape"
   ]
  },
  {
   "cell_type": "code",
   "execution_count": 146,
   "metadata": {},
   "outputs": [],
   "source": [
    "# Create X variable for features and Y variable for target\n",
    "X = data_six.drop('PULocationID', axis=1) #features\n",
    "y = data_six['PULocationID'] #target"
   ]
  },
  {
   "cell_type": "code",
   "execution_count": 147,
   "metadata": {},
   "outputs": [],
   "source": [
    "# Split the Train and Test Data\n",
    "# Apply Scaling and Fitting\n",
    "# Train and Test Split\n",
    "X_train, X_test, y_train, y_test = train_test_split(X, y, test_size = 0.2, random_state = 42)\n",
    "# Applying standard scaling\n",
    "sc = StandardScaler()\n",
    "X_train = sc.fit_transform(X_train)\n",
    "X_test = sc.transform(X_test)"
   ]
  },
  {
   "cell_type": "code",
   "execution_count": 148,
   "metadata": {},
   "outputs": [
    {
     "name": "stdout",
     "output_type": "stream",
     "text": [
      "              precision    recall  f1-score   support\n",
      "\n",
      "           8       0.00      0.00      0.00         1\n",
      "          48       0.79      0.65      0.71      1958\n",
      "          79       0.76      0.85      0.81      2620\n",
      "         130       0.00      0.00      0.00         1\n",
      "         132       0.89      0.96      0.93      1640\n",
      "         138       0.79      0.72      0.75       875\n",
      "\n",
      "    accuracy                           0.80      7095\n",
      "   macro avg       0.54      0.53      0.53      7095\n",
      "weighted avg       0.80      0.80      0.80      7095\n",
      "\n",
      "[[   0    1    0    0    0    0]\n",
      " [   0 1269  606    0   19   64]\n",
      " [   0  296 2231    0   31   62]\n",
      " [   0    0    0    0    0    1]\n",
      " [   0    7   12    0 1577   44]\n",
      " [   0   36   70    1  140  628]]\n",
      "Model Accuracy: 80.41%\n"
     ]
    },
    {
     "name": "stderr",
     "output_type": "stream",
     "text": [
      "/Users/davidsuffolk/anaconda3/lib/python3.7/site-packages/sklearn/metrics/classification.py:1437: UndefinedMetricWarning: Precision and F-score are ill-defined and being set to 0.0 in labels with no predicted samples.\n",
      "  'precision', 'predicted', average, warn_for)\n"
     ]
    }
   ],
   "source": [
    "nn(X_train, X_test, y_train, y_test)"
   ]
  },
  {
   "cell_type": "code",
   "execution_count": 149,
   "metadata": {},
   "outputs": [
    {
     "name": "stdout",
     "output_type": "stream",
     "text": [
      "Number of Decision Trees: 10\n",
      "Test Score: 0.8679351656095842\n",
      "Train Score: 0.9920002819283902\n"
     ]
    }
   ],
   "source": [
    "RandomForest_Model(10)"
   ]
  },
  {
   "cell_type": "code",
   "execution_count": 150,
   "metadata": {},
   "outputs": [
    {
     "name": "stdout",
     "output_type": "stream",
     "text": [
      "Number of Decision Trees: 50\n",
      "Test Score: 0.8797744890768147\n",
      "Train Score: 0.9971807160981111\n"
     ]
    }
   ],
   "source": [
    "RandomForest_Model(50)"
   ]
  },
  {
   "cell_type": "code",
   "execution_count": 151,
   "metadata": {},
   "outputs": [
    {
     "name": "stdout",
     "output_type": "stream",
     "text": [
      "Number of Decision Trees: 100\n",
      "Test Score: 0.8816067653276956\n",
      "Train Score: 0.9973216802932056\n"
     ]
    }
   ],
   "source": [
    "RandomForest_Model(100)"
   ]
  },
  {
   "cell_type": "code",
   "execution_count": 152,
   "metadata": {},
   "outputs": [
    {
     "name": "stdout",
     "output_type": "stream",
     "text": [
      "Max Samples: 0.5\n",
      "Max Features: 1.0\n",
      "Number of Decision Trees: 20\n",
      "Test Score: 0.9028893587033122\n",
      "Train Score: 0.971243304200733\n"
     ]
    }
   ],
   "source": [
    "Bagging_model(0.5, 1.0, 20)"
   ]
  },
  {
   "cell_type": "code",
   "execution_count": 153,
   "metadata": {},
   "outputs": [
    {
     "name": "stdout",
     "output_type": "stream",
     "text": [
      "Number of Decision Trees: 10\n",
      "Learning Rate: 1\n",
      "Test Score: 0.8941508104298802\n",
      "Train Score: 0.9973216802932056\n"
     ]
    }
   ],
   "source": [
    "Boosting_model(10,1)"
   ]
  },
  {
   "cell_type": "code",
   "execution_count": null,
   "metadata": {},
   "outputs": [],
   "source": []
  }
 ],
 "metadata": {
  "kernelspec": {
   "display_name": "Python 3",
   "language": "python",
   "name": "python3"
  },
  "language_info": {
   "codemirror_mode": {
    "name": "ipython",
    "version": 3
   },
   "file_extension": ".py",
   "mimetype": "text/x-python",
   "name": "python",
   "nbconvert_exporter": "python",
   "pygments_lexer": "ipython3",
   "version": "3.7.4"
  }
 },
 "nbformat": 4,
 "nbformat_minor": 2
}
